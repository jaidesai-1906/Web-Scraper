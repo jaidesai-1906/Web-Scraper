{
 "cells": [
  {
   "cell_type": "code",
   "execution_count": null,
   "metadata": {},
   "outputs": [],
   "source": [
    "# Import Required Libraries\n",
    "import csv\n",
    "from selenium import webdriver\n",
    "from selenium.webdriver.chrome.options import Options\n",
    "from bs4 import BeautifulSoup\n",
    "from selenium.webdriver.chrome.service import Service"
   ]
  },
  {
   "cell_type": "code",
   "execution_count": 1,
   "metadata": {},
   "outputs": [],
   "source": [
    "def extract_data(browser):\n",
    "    #Scrape the content of the webpage accessed by the browser\n",
    "    soup = BeautifulSoup(browser.page_source, 'html.parser')\n",
    "\n",
    "    body_content = soup.find('body')\n",
    "    if body_content:\n",
    "        content = body_content.get_text(separator='\\n', strip=True)\n",
    "    else:\n",
    "        content = \"No body content found\"\n",
    "\n",
    "    return {'content': content}"
   ]
  },
  {
   "cell_type": "code",
   "execution_count": 2,
   "metadata": {},
   "outputs": [],
   "source": [
    "# Configuration\n",
    "config = {\n",
    "    \"input_csv\": \"input_emails.csv\", #insert name of your id file, here I used emails as IDs\n",
    "    \"output_csv\": \"output.csv\",\n",
    "    \"start_url\": \"https://my.xyz.in/default.aspx?UserId={}\", #example URL - please update with the one you need scrapped\n",
    "    \"target_url\": \"https://my.xyz.in/details.aspx\", #example URL - please update if required, or keep it same as start_url\n",
    "    \"chromedriver_path\": \"/Users/chromedriver_mac_arm64/chromedriver\",#insert your chrome drive path here\n",
    "    \"tor_proxy\": \"127.0.0.1:9150\", # put if required, ensure tor is installed\n",
    "}"
   ]
  },
  {
   "cell_type": "code",
   "execution_count": null,
   "metadata": {},
   "outputs": [],
   "source": [
    "# Set up Chrome options\n",
    "chrome_options = Options()\n",
    "\n",
    "# Use the Tor proxy\n",
    "chrome_options.add_argument(f\"--proxy-server=socks5://{config['tor_proxy']}\")\n",
    "\n",
    "# Create a Chrome browser instance with the configured options\n",
    "s = Service(executable_path=config['chromedriver_path'])\n",
    "browser = webdriver.Chrome(service=s, options=chrome_options)"
   ]
  },
  {
   "cell_type": "code",
   "execution_count": null,
   "metadata": {},
   "outputs": [],
   "source": [
    "with open(config['input_csv'], 'r') as input_file, open(config['output_csv'], 'w', newline='') as output_file:\n",
    "    csv_reader = csv.reader(input_file)\n",
    "    csv_writer = csv.writer(output_file)\n",
    "    csv_writer.writerow(['email', 'fee_structure_output'])  # Write the header row\n",
    "\n",
    "    for row in csv_reader:\n",
    "        email = row[0]\n",
    "        start_url = config['start_url'].format(email)\n",
    "        target_url = config['target_url']\n",
    "\n",
    "        try:\n",
    "            # Navigate to the start_url\n",
    "            browser.get(start_url)\n",
    "            \n",
    "            # Navigate to the target page and scrape the content\n",
    "            browser.get(target_url)\n",
    "            page_data = extract_data(browser)\n",
    "            page_content = page_data['content']\n",
    "            print(f\"Page Content for {email}: {page_content}\")\n",
    "\n",
    "            csv_writer.writerow([email, page_content])\n",
    "        except Exception as e:\n",
    "            print(f\"Error occurred for {email}: {e}\")\n",
    "\n",
    "browser.quit()"
   ]
  }
 ],
 "metadata": {
  "kernelspec": {
   "display_name": "base",
   "language": "python",
   "name": "python3"
  },
  "language_info": {
   "codemirror_mode": {
    "name": "ipython",
    "version": 3
   },
   "file_extension": ".py",
   "mimetype": "text/x-python",
   "name": "python",
   "nbconvert_exporter": "python",
   "pygments_lexer": "ipython3",
   "version": "3.9.16"
  },
  "orig_nbformat": 4,
  "vscode": {
   "interpreter": {
    "hash": "c6e4e9f98eb68ad3b7c296f83d20e6de614cb42e90992a65aa266555a3137d0d"
   }
  }
 },
 "nbformat": 4,
 "nbformat_minor": 2
}
